{
  "nbformat": 4,
  "nbformat_minor": 0,
  "metadata": {
    "colab": {
      "name": "Digit Recognizer-Keras(CNN).ipynb",
      "provenance": []
    },
    "kernelspec": {
      "name": "python3",
      "display_name": "Python 3"
    },
    "language_info": {
      "name": "python"
    },
    "accelerator": "GPU"
  },
  "cells": [
    {
      "cell_type": "code",
      "metadata": {
        "id": "3vj-ay4IVhKD",
        "colab": {
          "base_uri": "https://localhost:8080/"
        },
        "outputId": "d71f5cf3-6669-49c0-9397-e0109db1437b"
      },
      "source": [
        "from google.colab import drive\n",
        "drive.mount(\"/content/drive/\")\n",
        "\n",
        "path = \"/content/drive/My Drive/DataScience/Data\"\n",
        "import numpy as np\n",
        "import pandas as pd\n",
        "from sklearn.model_selection import train_test_split\n",
        "from sklearn.metrics import confusion_matrix\n",
        "%matplotlib inline\n",
        "import matplotlib.pyplot as plt\n",
        "import tensorflow as tf\n",
        "from keras.utils.np_utils import to_categorical\n",
        "\n",
        "import keras\n",
        "from keras import Sequential\n",
        "from keras.layers import Dense, Dropout, Flatten, Conv2D, MaxPool2D, BatchNormalization\n",
        "from keras.optimizers import Adam\n",
        "\n",
        "\n",
        "np.random.seed(2)"
      ],
      "execution_count": null,
      "outputs": [
        {
          "output_type": "stream",
          "text": [
            "Drive already mounted at /content/drive/; to attempt to forcibly remount, call drive.mount(\"/content/drive/\", force_remount=True).\n"
          ],
          "name": "stdout"
        }
      ]
    },
    {
      "cell_type": "code",
      "metadata": {
        "id": "iWO48KXI2ded"
      },
      "source": [
        "model = Sequential()"
      ],
      "execution_count": null,
      "outputs": []
    },
    {
      "cell_type": "code",
      "metadata": {
        "id": "7-A6mYyy3kLV"
      },
      "source": [
        "digits_train = pd.read_csv(path+\"/digits_train.csv\")\n",
        "digits_test = pd.read_csv(path+\"/digits_test.csv\")\n",
        "Y = digits_train.pop(\"label\")\n",
        "digits_train = digits_train/255.0\n",
        "digits_test = digits_test/255.0\n",
        "digits_train = digits_train.values.reshape(-1, 28, 28, 1)\n",
        "digits_test = digits_test.values.reshape(-1, 28, 28, 1)\n",
        "Y = to_categorical(Y, num_classes = 10)"
      ],
      "execution_count": null,
      "outputs": []
    },
    {
      "cell_type": "code",
      "metadata": {
        "id": "9LYcVQcI43X8"
      },
      "source": [
        "model.add(Conv2D(32, kernel_size = 3, activation = \"relu\", padding = 'same', input_shape = (28, 28, 1)))\n",
        "model.add(BatchNormalization())\n",
        "model.add(Conv2D(32, kernel_size = 3, activation = \"relu\", padding = 'same'))\n",
        "model.add(BatchNormalization())\n",
        "model.add(MaxPool2D(pool_size = 2))\n",
        "model.add(BatchNormalization())\n",
        "model.add(Dropout(0.4))\n",
        "\n",
        "model.add(Conv2D(64, kernel_size = 3, padding = \"same\", activation = \"relu\"))\n",
        "model.add(BatchNormalization())\n",
        "model.add(Conv2D(64, kernel_size = 3, padding = 'same', activation = \"relu\"))\n",
        "model.add(BatchNormalization())\n",
        "model.add(MaxPool2D(pool_size = 2))\n",
        "model.add(BatchNormalization())\n",
        "model.add(Dropout(0.4))\n",
        "\n",
        "model.add(Flatten())\n",
        "model.add(Dense(256, activation = \"relu\"))\n",
        "model.add(BatchNormalization())\n",
        "model.add(Dropout(0.4))\n",
        "model.add(Dense(10, activation = \"softmax\"))\n",
        "\n",
        "model.compile(optimizer = 'adam', loss = \"categorical_crossentropy\", metrics = [\"accuracy\"])"
      ],
      "execution_count": null,
      "outputs": []
    },
    {
      "cell_type": "code",
      "metadata": {
        "colab": {
          "base_uri": "https://localhost:8080/"
        },
        "id": "-_b0h8mxDMDz",
        "outputId": "43e92ead-586c-4dcc-9a14-79b76555536a"
      },
      "source": [
        "X_train, X_dev, Y_train, Y_dev = train_test_split(digits_train, Y, test_size = 0.2)\n",
        "model.fit(x = X_train, y = Y_train, epochs = 50, batch_size = 64, validation_data = (X_dev, Y_dev))"
      ],
      "execution_count": null,
      "outputs": [
        {
          "output_type": "stream",
          "text": [
            "Epoch 1/50\n",
            "525/525 [==============================] - 51s 10ms/step - loss: 0.4215 - accuracy: 0.8731 - val_loss: 0.4710 - val_accuracy: 0.8585\n",
            "Epoch 2/50\n",
            "525/525 [==============================] - 4s 8ms/step - loss: 0.0827 - accuracy: 0.9733 - val_loss: 0.0461 - val_accuracy: 0.9864\n",
            "Epoch 3/50\n",
            "525/525 [==============================] - 4s 8ms/step - loss: 0.0600 - accuracy: 0.9801 - val_loss: 0.0401 - val_accuracy: 0.9883\n",
            "Epoch 4/50\n",
            "525/525 [==============================] - 4s 8ms/step - loss: 0.0484 - accuracy: 0.9836 - val_loss: 0.0351 - val_accuracy: 0.9894\n",
            "Epoch 5/50\n",
            "525/525 [==============================] - 4s 8ms/step - loss: 0.0403 - accuracy: 0.9871 - val_loss: 0.0356 - val_accuracy: 0.9898\n",
            "Epoch 6/50\n",
            "525/525 [==============================] - 4s 8ms/step - loss: 0.0364 - accuracy: 0.9877 - val_loss: 0.0407 - val_accuracy: 0.9888\n",
            "Epoch 7/50\n",
            "525/525 [==============================] - 4s 8ms/step - loss: 0.0399 - accuracy: 0.9878 - val_loss: 0.0441 - val_accuracy: 0.9873\n",
            "Epoch 8/50\n",
            "525/525 [==============================] - 4s 8ms/step - loss: 0.0387 - accuracy: 0.9880 - val_loss: 0.0494 - val_accuracy: 0.9861\n",
            "Epoch 9/50\n",
            "525/525 [==============================] - 4s 8ms/step - loss: 0.0317 - accuracy: 0.9891 - val_loss: 0.0360 - val_accuracy: 0.9898\n",
            "Epoch 10/50\n",
            "525/525 [==============================] - 4s 8ms/step - loss: 0.0253 - accuracy: 0.9914 - val_loss: 0.0361 - val_accuracy: 0.9904\n",
            "Epoch 11/50\n",
            "525/525 [==============================] - 4s 8ms/step - loss: 0.0250 - accuracy: 0.9915 - val_loss: 0.0419 - val_accuracy: 0.9885\n",
            "Epoch 12/50\n",
            "525/525 [==============================] - 4s 8ms/step - loss: 0.0242 - accuracy: 0.9925 - val_loss: 0.0328 - val_accuracy: 0.9911\n",
            "Epoch 13/50\n",
            "525/525 [==============================] - 4s 8ms/step - loss: 0.0217 - accuracy: 0.9924 - val_loss: 0.0339 - val_accuracy: 0.9912\n",
            "Epoch 14/50\n",
            "525/525 [==============================] - 4s 8ms/step - loss: 0.0227 - accuracy: 0.9921 - val_loss: 0.0337 - val_accuracy: 0.9917\n",
            "Epoch 15/50\n",
            "525/525 [==============================] - 4s 8ms/step - loss: 0.0220 - accuracy: 0.9925 - val_loss: 0.0344 - val_accuracy: 0.9902\n",
            "Epoch 16/50\n",
            "525/525 [==============================] - 4s 8ms/step - loss: 0.0187 - accuracy: 0.9944 - val_loss: 0.0368 - val_accuracy: 0.9913\n",
            "Epoch 17/50\n",
            "525/525 [==============================] - 4s 8ms/step - loss: 0.0168 - accuracy: 0.9947 - val_loss: 0.0313 - val_accuracy: 0.9937\n",
            "Epoch 18/50\n",
            "525/525 [==============================] - 4s 8ms/step - loss: 0.0190 - accuracy: 0.9937 - val_loss: 0.0318 - val_accuracy: 0.9921\n",
            "Epoch 19/50\n",
            "525/525 [==============================] - 4s 8ms/step - loss: 0.0139 - accuracy: 0.9952 - val_loss: 0.0349 - val_accuracy: 0.9919\n",
            "Epoch 20/50\n",
            "525/525 [==============================] - 4s 8ms/step - loss: 0.0164 - accuracy: 0.9943 - val_loss: 0.0386 - val_accuracy: 0.9910\n",
            "Epoch 21/50\n",
            "525/525 [==============================] - 4s 8ms/step - loss: 0.0147 - accuracy: 0.9949 - val_loss: 0.0357 - val_accuracy: 0.9904\n",
            "Epoch 22/50\n",
            "525/525 [==============================] - 4s 8ms/step - loss: 0.0154 - accuracy: 0.9947 - val_loss: 0.7731 - val_accuracy: 0.8735\n",
            "Epoch 23/50\n",
            "525/525 [==============================] - 4s 8ms/step - loss: 0.0208 - accuracy: 0.9928 - val_loss: 0.0307 - val_accuracy: 0.9932\n",
            "Epoch 24/50\n",
            "525/525 [==============================] - 4s 8ms/step - loss: 0.0146 - accuracy: 0.9951 - val_loss: 0.0416 - val_accuracy: 0.9890\n",
            "Epoch 25/50\n",
            "525/525 [==============================] - 4s 8ms/step - loss: 0.0107 - accuracy: 0.9965 - val_loss: 0.0320 - val_accuracy: 0.9931\n",
            "Epoch 26/50\n",
            "525/525 [==============================] - 4s 8ms/step - loss: 0.0119 - accuracy: 0.9959 - val_loss: 0.0350 - val_accuracy: 0.9917\n",
            "Epoch 27/50\n",
            "525/525 [==============================] - 4s 8ms/step - loss: 0.0120 - accuracy: 0.9961 - val_loss: 0.0278 - val_accuracy: 0.9935\n",
            "Epoch 28/50\n",
            "525/525 [==============================] - 4s 8ms/step - loss: 0.0103 - accuracy: 0.9961 - val_loss: 0.0354 - val_accuracy: 0.9920\n",
            "Epoch 29/50\n",
            "525/525 [==============================] - 4s 8ms/step - loss: 0.0103 - accuracy: 0.9963 - val_loss: 0.0337 - val_accuracy: 0.9918\n",
            "Epoch 30/50\n",
            "525/525 [==============================] - 4s 8ms/step - loss: 0.0086 - accuracy: 0.9970 - val_loss: 0.0360 - val_accuracy: 0.9929\n",
            "Epoch 31/50\n",
            "525/525 [==============================] - 4s 8ms/step - loss: 0.0103 - accuracy: 0.9966 - val_loss: 0.0310 - val_accuracy: 0.9932\n",
            "Epoch 32/50\n",
            "525/525 [==============================] - 4s 8ms/step - loss: 0.0118 - accuracy: 0.9960 - val_loss: 0.0339 - val_accuracy: 0.9924\n",
            "Epoch 33/50\n",
            "525/525 [==============================] - 4s 8ms/step - loss: 0.0111 - accuracy: 0.9968 - val_loss: 0.0394 - val_accuracy: 0.9893\n",
            "Epoch 34/50\n",
            "525/525 [==============================] - 4s 8ms/step - loss: 0.0168 - accuracy: 0.9945 - val_loss: 0.0320 - val_accuracy: 0.9927\n",
            "Epoch 35/50\n",
            "525/525 [==============================] - 4s 8ms/step - loss: 0.0085 - accuracy: 0.9967 - val_loss: 0.0331 - val_accuracy: 0.9920\n",
            "Epoch 36/50\n",
            "525/525 [==============================] - 4s 8ms/step - loss: 0.0092 - accuracy: 0.9972 - val_loss: 0.0323 - val_accuracy: 0.9923\n",
            "Epoch 37/50\n",
            "525/525 [==============================] - 4s 8ms/step - loss: 0.0070 - accuracy: 0.9973 - val_loss: 0.0341 - val_accuracy: 0.9933\n",
            "Epoch 38/50\n",
            "525/525 [==============================] - 4s 8ms/step - loss: 0.0070 - accuracy: 0.9977 - val_loss: 0.0388 - val_accuracy: 0.9920\n",
            "Epoch 39/50\n",
            "525/525 [==============================] - 4s 8ms/step - loss: 0.0090 - accuracy: 0.9971 - val_loss: 0.9559 - val_accuracy: 0.9213\n",
            "Epoch 40/50\n",
            "525/525 [==============================] - 4s 8ms/step - loss: 0.0083 - accuracy: 0.9972 - val_loss: 0.0376 - val_accuracy: 0.9924\n",
            "Epoch 41/50\n",
            "525/525 [==============================] - 4s 8ms/step - loss: 0.0078 - accuracy: 0.9973 - val_loss: 0.0324 - val_accuracy: 0.9938\n",
            "Epoch 42/50\n",
            "525/525 [==============================] - 4s 8ms/step - loss: 0.0095 - accuracy: 0.9965 - val_loss: 0.0398 - val_accuracy: 0.9911\n",
            "Epoch 43/50\n",
            "525/525 [==============================] - 4s 8ms/step - loss: 0.0088 - accuracy: 0.9970 - val_loss: 0.0382 - val_accuracy: 0.9926\n",
            "Epoch 44/50\n",
            "525/525 [==============================] - 4s 8ms/step - loss: 0.0081 - accuracy: 0.9974 - val_loss: 0.0382 - val_accuracy: 0.9925\n",
            "Epoch 45/50\n",
            "525/525 [==============================] - 4s 8ms/step - loss: 0.0084 - accuracy: 0.9968 - val_loss: 0.0353 - val_accuracy: 0.9925\n",
            "Epoch 46/50\n",
            "525/525 [==============================] - 4s 8ms/step - loss: 0.0091 - accuracy: 0.9971 - val_loss: 0.0321 - val_accuracy: 0.9937\n",
            "Epoch 47/50\n",
            "525/525 [==============================] - 4s 8ms/step - loss: 0.0076 - accuracy: 0.9973 - val_loss: 0.0338 - val_accuracy: 0.9936\n",
            "Epoch 48/50\n",
            "525/525 [==============================] - 4s 8ms/step - loss: 0.0068 - accuracy: 0.9979 - val_loss: 0.0365 - val_accuracy: 0.9929\n",
            "Epoch 49/50\n",
            "525/525 [==============================] - 4s 8ms/step - loss: 0.0070 - accuracy: 0.9974 - val_loss: 0.0414 - val_accuracy: 0.9918\n",
            "Epoch 50/50\n",
            "525/525 [==============================] - 4s 8ms/step - loss: 0.0053 - accuracy: 0.9983 - val_loss: 0.0344 - val_accuracy: 0.9938\n"
          ],
          "name": "stdout"
        },
        {
          "output_type": "execute_result",
          "data": {
            "text/plain": [
              "<keras.callbacks.History at 0x7fb72bfd1650>"
            ]
          },
          "metadata": {
            "tags": []
          },
          "execution_count": 10
        }
      ]
    },
    {
      "cell_type": "code",
      "metadata": {
        "colab": {
          "base_uri": "https://localhost:8080/"
        },
        "id": "iUnZPNOYEE0Y",
        "outputId": "ce49c08c-222a-4ecb-f7b5-dba55a4fd1c5"
      },
      "source": [
        "results = model.predict(digits_test)\n",
        "results"
      ],
      "execution_count": null,
      "outputs": [
        {
          "output_type": "execute_result",
          "data": {
            "text/plain": [
              "array([[1.83860190e-14, 2.43764668e-15, 1.00000000e+00, ...,\n",
              "        1.27762977e-15, 1.98470770e-13, 2.11473702e-14],\n",
              "       [1.00000000e+00, 1.22792147e-14, 2.23879752e-11, ...,\n",
              "        7.26030260e-12, 7.70654157e-13, 1.08941095e-13],\n",
              "       [5.82914251e-13, 3.28613818e-14, 1.07292653e-09, ...,\n",
              "        1.04875050e-12, 8.28975200e-09, 1.00000000e+00],\n",
              "       ...,\n",
              "       [3.79836758e-16, 2.18242904e-13, 1.66144395e-14, ...,\n",
              "        2.19331646e-13, 3.43309756e-12, 1.86326228e-13],\n",
              "       [5.94680034e-12, 4.02890568e-12, 1.51291393e-11, ...,\n",
              "        7.11283532e-10, 1.84138967e-12, 9.99999642e-01],\n",
              "       [8.75011504e-16, 1.60152892e-15, 1.00000000e+00, ...,\n",
              "        3.72960485e-17, 2.48213880e-11, 1.50959069e-15]], dtype=float32)"
            ]
          },
          "metadata": {
            "tags": []
          },
          "execution_count": 12
        }
      ]
    },
    {
      "cell_type": "code",
      "metadata": {
        "id": "T30_yBAhFdv5"
      },
      "source": [
        "result = np.argmax(results, axis = 1)\n",
        "results = pd.Series(result,name=\"Label\")\n",
        "submission = pd.concat([pd.Series(range(1,28001),name = \"ImageId\"),results],axis = 1)\n",
        "submission.to_csv(\"MNIST-CNN.csv\",index=False)"
      ],
      "execution_count": null,
      "outputs": []
    },
    {
      "cell_type": "code",
      "metadata": {
        "colab": {
          "base_uri": "https://localhost:8080/",
          "height": 17
        },
        "id": "R6EMWDR7F3gf",
        "outputId": "3f25ea44-713d-4f6e-afb5-9d2cab261eb5"
      },
      "source": [
        "from google.colab import files\n",
        "files.download(\"MNIST-CNN.csv\")"
      ],
      "execution_count": null,
      "outputs": [
        {
          "output_type": "display_data",
          "data": {
            "application/javascript": [
              "\n",
              "    async function download(id, filename, size) {\n",
              "      if (!google.colab.kernel.accessAllowed) {\n",
              "        return;\n",
              "      }\n",
              "      const div = document.createElement('div');\n",
              "      const label = document.createElement('label');\n",
              "      label.textContent = `Downloading \"${filename}\": `;\n",
              "      div.appendChild(label);\n",
              "      const progress = document.createElement('progress');\n",
              "      progress.max = size;\n",
              "      div.appendChild(progress);\n",
              "      document.body.appendChild(div);\n",
              "\n",
              "      const buffers = [];\n",
              "      let downloaded = 0;\n",
              "\n",
              "      const channel = await google.colab.kernel.comms.open(id);\n",
              "      // Send a message to notify the kernel that we're ready.\n",
              "      channel.send({})\n",
              "\n",
              "      for await (const message of channel.messages) {\n",
              "        // Send a message to notify the kernel that we're ready.\n",
              "        channel.send({})\n",
              "        if (message.buffers) {\n",
              "          for (const buffer of message.buffers) {\n",
              "            buffers.push(buffer);\n",
              "            downloaded += buffer.byteLength;\n",
              "            progress.value = downloaded;\n",
              "          }\n",
              "        }\n",
              "      }\n",
              "      const blob = new Blob(buffers, {type: 'application/binary'});\n",
              "      const a = document.createElement('a');\n",
              "      a.href = window.URL.createObjectURL(blob);\n",
              "      a.download = filename;\n",
              "      div.appendChild(a);\n",
              "      a.click();\n",
              "      div.remove();\n",
              "    }\n",
              "  "
            ],
            "text/plain": [
              "<IPython.core.display.Javascript object>"
            ]
          },
          "metadata": {
            "tags": []
          }
        },
        {
          "output_type": "display_data",
          "data": {
            "application/javascript": [
              "download(\"download_63ced5eb-b893-4fe7-8e69-95a7324e5eeb\", \"MNIST-CNN.csv\", 212908)"
            ],
            "text/plain": [
              "<IPython.core.display.Javascript object>"
            ]
          },
          "metadata": {
            "tags": []
          }
        }
      ]
    }
  ]
}